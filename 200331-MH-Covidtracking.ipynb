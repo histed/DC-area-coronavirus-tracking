{
 "cells": [
  {
   "cell_type": "code",
   "execution_count": 7,
   "metadata": {},
   "outputs": [],
   "source": [
    "%reload_ext autoreload\n",
    "%autoreload 2\n",
    "\n",
    "import numpy as np\n",
    "import matplotlib as mpl\n",
    "import matplotlib.pyplot as plt\n",
    "import pytoolsMH as ptMH\n",
    "import pandas as pd\n",
    "import seaborn as sns\n",
    "import os,sys\n",
    "import scipy.io\n",
    "import scipy.stats as ss\n",
    "from pathlib import Path\n",
    "import statsmodels.api as sm\n",
    "import statsmodels.formula.api as smf\n",
    "import requests\n",
    "import json\n",
    "import datetime, dateutil.parser\n",
    "\n",
    "sns.set_style('whitegrid')\n",
    "sys.path.append('../src')\n",
    "\n",
    "import warnings\n",
    "warnings.filterwarnings('ignore')\n",
    "\n",
    "pd.set_option('display.max_rows', None)\n",
    "\n",
    "mpl.rc('pdf', fonttype=42) # embed fonts on pdf output \n",
    "\n",
    "r_ = np.r_"
   ]
  },
  {
   "cell_type": "markdown",
   "metadata": {},
   "source": [
    "## covidtracking.com data"
   ]
  },
  {
   "cell_type": "code",
   "execution_count": 2,
   "metadata": {},
   "outputs": [],
   "source": [
    "r = requests.get('https://covidtracking.com/api/states/daily')\n",
    "data = r.json()\n",
    "ctDf = pd.DataFrame(data)"
   ]
  },
  {
   "cell_type": "code",
   "execution_count": 19,
   "metadata": {},
   "outputs": [
    {
     "data": {
      "text/plain": [
       "''"
      ]
     },
     "execution_count": 19,
     "metadata": {},
     "output_type": "execute_result"
    }
   ],
   "source": [
    "dtV = pd.to_datetime(ctDf.loc[desIx,'date'], format='%Y%m%d')\n",
    "dtV - dtV.iloc[-1]\n",
    ";"
   ]
  },
  {
   "cell_type": "code",
   "execution_count": 59,
   "metadata": {},
   "outputs": [
    {
     "data": {
      "text/plain": [
       "<matplotlib.legend.Legend at 0x12c44a390>"
      ]
     },
     "execution_count": 59,
     "metadata": {},
     "output_type": "execute_result"
    },
    {
     "data": {
      "image/png": "[encoded data removed]",
      "text/plain": [
       "<Figure size 432x324 with 1 Axes>"
      ]
     },
     "metadata": {},
     "output_type": "display_data"
    }
   ],
   "source": [
    "\n",
    "fig, ax = plt.subplots(figsize=r_[1,0.75]*6)\n",
    "\n",
    "\n",
    "def plot_state(state='DC'):\n",
    "    desIx = ctDf.state == state\n",
    "    ys = ctDf.loc[desIx,'positive']\n",
    "    dtV = pd.to_datetime(ctDf.loc[desIx,'date'], format='%Y%m%d')\n",
    "    xs = (dtV - dtV.iloc[-1])\n",
    "    ctDf.loc[desIx,'day0'] = xs\n",
    "    xs = [x.days for x in xs]\n",
    "\n",
    "\n",
    "    ax.plot(xs, ys, marker='.', label=state)\n",
    "    ax.set_yscale('log')\n",
    "    ax.set_ylabel('cases')\n",
    "\n",
    "\n",
    "plot_state('DC')\n",
    "plot_state('MD')\n",
    "plot_state('VA')\n",
    "\n",
    "ax.set_ylim([10,2000])\n",
    "yt = [10,20,50,100,200,500,1000,2000,5000]\n",
    "plt.yticks(yt,yt)\n",
    "#ax.set_yticklabels(['%d'%x for x in yt])\n",
    "ax.set_xlim([0,35])\n",
    "\n",
    "plt.legend()\n"
   ]
  },
  {
   "cell_type": "code",
   "execution_count": null,
   "metadata": {},
   "outputs": [],
   "source": []
  },
  {
   "cell_type": "code",
   "execution_count": null,
   "metadata": {},
   "outputs": [],
   "source": []
  },
  {
   "cell_type": "code",
   "execution_count": null,
   "metadata": {},
   "outputs": [],
   "source": []
  },
  {
   "cell_type": "code",
   "execution_count": null,
   "metadata": {},
   "outputs": [],
   "source": []
  }
 ],
 "metadata": {
  "jupytext": {
   "formats": "ipynb,md"
  },
  "kernelspec": {
   "display_name": "Python 3",
   "language": "python",
   "name": "python3"
  },
  "language_info": {
   "codemirror_mode": {
    "name": "ipython",
    "version": 3
   },
   "file_extension": ".py",
   "mimetype": "text/x-python",
   "name": "python",
   "nbconvert_exporter": "python",
   "pygments_lexer": "ipython3",
   "version": "3.7.6"
  }
 },
 "nbformat": 4,
 "nbformat_minor": 4
}
